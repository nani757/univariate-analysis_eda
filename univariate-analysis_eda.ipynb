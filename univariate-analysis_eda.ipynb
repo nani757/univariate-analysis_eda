{
 "cells": [
  {
   "cell_type": "markdown",
   "id": "77e08b11",
   "metadata": {},
   "source": [
    "### Exploratory Data Analysis (EDA)"
   ]
  },
  {
   "cell_type": "markdown",
   "id": "50519311",
   "metadata": {},
   "source": [
    "### univariate-analysis"
   ]
  },
  {
   "cell_type": "code",
   "execution_count": 1,
   "id": "526ca50c",
   "metadata": {},
   "outputs": [],
   "source": [
    "import pandas as pd\n",
    "import matplotlib.pyplot as plt\n",
    "%matplotlib inline\n",
    "import seaborn as sns"
   ]
  },
  {
   "cell_type": "code",
   "execution_count": 2,
   "id": "86ba4ad4",
   "metadata": {},
   "outputs": [
    {
     "data": {
      "text/html": [
       "<div>\n",
       "<style scoped>\n",
       "    .dataframe tbody tr th:only-of-type {\n",
       "        vertical-align: middle;\n",
       "    }\n",
       "\n",
       "    .dataframe tbody tr th {\n",
       "        vertical-align: top;\n",
       "    }\n",
       "\n",
       "    .dataframe thead th {\n",
       "        text-align: right;\n",
       "    }\n",
       "</style>\n",
       "<table border=\"1\" class=\"dataframe\">\n",
       "  <thead>\n",
       "    <tr style=\"text-align: right;\">\n",
       "      <th></th>\n",
       "      <th>date</th>\n",
       "      <th>day</th>\n",
       "      <th>aircraft</th>\n",
       "      <th>helicopter</th>\n",
       "      <th>tank</th>\n",
       "      <th>APC</th>\n",
       "      <th>field artillery</th>\n",
       "      <th>MRL</th>\n",
       "      <th>military auto</th>\n",
       "      <th>fuel tank</th>\n",
       "      <th>drone</th>\n",
       "      <th>naval ship</th>\n",
       "      <th>anti-aircraft warfare</th>\n",
       "      <th>special equipment</th>\n",
       "      <th>mobile SRBM system</th>\n",
       "    </tr>\n",
       "  </thead>\n",
       "  <tbody>\n",
       "    <tr>\n",
       "      <th>21</th>\n",
       "      <td>2022-03-18</td>\n",
       "      <td>23</td>\n",
       "      <td>93</td>\n",
       "      <td>112</td>\n",
       "      <td>450</td>\n",
       "      <td>1448</td>\n",
       "      <td>205</td>\n",
       "      <td>72</td>\n",
       "      <td>879</td>\n",
       "      <td>60</td>\n",
       "      <td>12</td>\n",
       "      <td>3</td>\n",
       "      <td>43</td>\n",
       "      <td>11.0</td>\n",
       "      <td>NaN</td>\n",
       "    </tr>\n",
       "    <tr>\n",
       "      <th>46</th>\n",
       "      <td>2022-04-12</td>\n",
       "      <td>48</td>\n",
       "      <td>157</td>\n",
       "      <td>140</td>\n",
       "      <td>732</td>\n",
       "      <td>1946</td>\n",
       "      <td>349</td>\n",
       "      <td>111</td>\n",
       "      <td>1406</td>\n",
       "      <td>76</td>\n",
       "      <td>124</td>\n",
       "      <td>7</td>\n",
       "      <td>63</td>\n",
       "      <td>25.0</td>\n",
       "      <td>4.0</td>\n",
       "    </tr>\n",
       "    <tr>\n",
       "      <th>30</th>\n",
       "      <td>2022-03-27</td>\n",
       "      <td>32</td>\n",
       "      <td>121</td>\n",
       "      <td>127</td>\n",
       "      <td>582</td>\n",
       "      <td>1664</td>\n",
       "      <td>294</td>\n",
       "      <td>93</td>\n",
       "      <td>1144</td>\n",
       "      <td>73</td>\n",
       "      <td>56</td>\n",
       "      <td>7</td>\n",
       "      <td>52</td>\n",
       "      <td>21.0</td>\n",
       "      <td>4.0</td>\n",
       "    </tr>\n",
       "    <tr>\n",
       "      <th>19</th>\n",
       "      <td>2022-03-16</td>\n",
       "      <td>21</td>\n",
       "      <td>84</td>\n",
       "      <td>108</td>\n",
       "      <td>430</td>\n",
       "      <td>1375</td>\n",
       "      <td>190</td>\n",
       "      <td>70</td>\n",
       "      <td>819</td>\n",
       "      <td>60</td>\n",
       "      <td>11</td>\n",
       "      <td>3</td>\n",
       "      <td>43</td>\n",
       "      <td>10.0</td>\n",
       "      <td>NaN</td>\n",
       "    </tr>\n",
       "    <tr>\n",
       "      <th>15</th>\n",
       "      <td>2022-03-12</td>\n",
       "      <td>17</td>\n",
       "      <td>58</td>\n",
       "      <td>83</td>\n",
       "      <td>362</td>\n",
       "      <td>1205</td>\n",
       "      <td>135</td>\n",
       "      <td>62</td>\n",
       "      <td>585</td>\n",
       "      <td>60</td>\n",
       "      <td>7</td>\n",
       "      <td>3</td>\n",
       "      <td>33</td>\n",
       "      <td>NaN</td>\n",
       "      <td>NaN</td>\n",
       "    </tr>\n",
       "  </tbody>\n",
       "</table>\n",
       "</div>"
      ],
      "text/plain": [
       "          date  day  aircraft  helicopter  tank   APC  field artillery  MRL  \\\n",
       "21  2022-03-18   23        93         112   450  1448              205   72   \n",
       "46  2022-04-12   48       157         140   732  1946              349  111   \n",
       "30  2022-03-27   32       121         127   582  1664              294   93   \n",
       "19  2022-03-16   21        84         108   430  1375              190   70   \n",
       "15  2022-03-12   17        58          83   362  1205              135   62   \n",
       "\n",
       "    military auto  fuel tank  drone  naval ship  anti-aircraft warfare  \\\n",
       "21            879         60     12           3                     43   \n",
       "46           1406         76    124           7                     63   \n",
       "30           1144         73     56           7                     52   \n",
       "19            819         60     11           3                     43   \n",
       "15            585         60      7           3                     33   \n",
       "\n",
       "    special equipment  mobile SRBM system  \n",
       "21               11.0                 NaN  \n",
       "46               25.0                 4.0  \n",
       "30               21.0                 4.0  \n",
       "19               10.0                 NaN  \n",
       "15                NaN                 NaN  "
      ]
     },
     "execution_count": 2,
     "metadata": {},
     "output_type": "execute_result"
    }
   ],
   "source": [
    "df = pd.read_csv(\"russia_losses_equipment.csv\")\n",
    "df.sample(5)"
   ]
  },
  {
   "cell_type": "code",
   "execution_count": 3,
   "id": "3daa4f60",
   "metadata": {},
   "outputs": [
    {
     "data": {
      "text/plain": [
       "(51, 15)"
      ]
     },
     "execution_count": 3,
     "metadata": {},
     "output_type": "execute_result"
    }
   ],
   "source": [
    "df.shape"
   ]
  },
  {
   "cell_type": "code",
   "execution_count": 4,
   "id": "d5f1361c",
   "metadata": {},
   "outputs": [
    {
     "name": "stdout",
     "output_type": "stream",
     "text": [
      "<class 'pandas.core.frame.DataFrame'>\n",
      "RangeIndex: 51 entries, 0 to 50\n",
      "Data columns (total 15 columns):\n",
      " #   Column                 Non-Null Count  Dtype  \n",
      "---  ------                 --------------  -----  \n",
      " 0   date                   51 non-null     object \n",
      " 1   day                    51 non-null     int64  \n",
      " 2   aircraft               51 non-null     int64  \n",
      " 3   helicopter             51 non-null     int64  \n",
      " 4   tank                   51 non-null     int64  \n",
      " 5   APC                    51 non-null     int64  \n",
      " 6   field artillery        51 non-null     int64  \n",
      " 7   MRL                    51 non-null     int64  \n",
      " 8   military auto          51 non-null     int64  \n",
      " 9   fuel tank              51 non-null     int64  \n",
      " 10  drone                  51 non-null     int64  \n",
      " 11  naval ship             51 non-null     int64  \n",
      " 12  anti-aircraft warfare  51 non-null     int64  \n",
      " 13  special equipment      32 non-null     float64\n",
      " 14  mobile SRBM system     22 non-null     float64\n",
      "dtypes: float64(2), int64(12), object(1)\n",
      "memory usage: 6.1+ KB\n"
     ]
    }
   ],
   "source": [
    "df.info()"
   ]
  },
  {
   "cell_type": "code",
   "execution_count": 5,
   "id": "bb04dda6",
   "metadata": {},
   "outputs": [
    {
     "data": {
      "text/plain": [
       "date                      0\n",
       "day                       0\n",
       "aircraft                  0\n",
       "helicopter                0\n",
       "tank                      0\n",
       "APC                       0\n",
       "field artillery           0\n",
       "MRL                       0\n",
       "military auto             0\n",
       "fuel tank                 0\n",
       "drone                     0\n",
       "naval ship                0\n",
       "anti-aircraft warfare     0\n",
       "special equipment        19\n",
       "mobile SRBM system       29\n",
       "dtype: int64"
      ]
     },
     "execution_count": 5,
     "metadata": {},
     "output_type": "execute_result"
    }
   ],
   "source": [
    "df.isnull().sum()"
   ]
  },
  {
   "cell_type": "code",
   "execution_count": 6,
   "id": "1bbe9236",
   "metadata": {},
   "outputs": [
    {
     "data": {
      "text/html": [
       "<div>\n",
       "<style scoped>\n",
       "    .dataframe tbody tr th:only-of-type {\n",
       "        vertical-align: middle;\n",
       "    }\n",
       "\n",
       "    .dataframe tbody tr th {\n",
       "        vertical-align: top;\n",
       "    }\n",
       "\n",
       "    .dataframe thead th {\n",
       "        text-align: right;\n",
       "    }\n",
       "</style>\n",
       "<table border=\"1\" class=\"dataframe\">\n",
       "  <thead>\n",
       "    <tr style=\"text-align: right;\">\n",
       "      <th></th>\n",
       "      <th>day</th>\n",
       "      <th>aircraft</th>\n",
       "      <th>helicopter</th>\n",
       "      <th>tank</th>\n",
       "      <th>APC</th>\n",
       "      <th>field artillery</th>\n",
       "      <th>MRL</th>\n",
       "      <th>military auto</th>\n",
       "      <th>fuel tank</th>\n",
       "      <th>drone</th>\n",
       "      <th>naval ship</th>\n",
       "      <th>anti-aircraft warfare</th>\n",
       "      <th>special equipment</th>\n",
       "      <th>mobile SRBM system</th>\n",
       "    </tr>\n",
       "  </thead>\n",
       "  <tbody>\n",
       "    <tr>\n",
       "      <th>count</th>\n",
       "      <td>51.000000</td>\n",
       "      <td>51.000000</td>\n",
       "      <td>51.000000</td>\n",
       "      <td>51.000000</td>\n",
       "      <td>51.000000</td>\n",
       "      <td>51.000000</td>\n",
       "      <td>51.000000</td>\n",
       "      <td>51.000000</td>\n",
       "      <td>51.000000</td>\n",
       "      <td>51.000000</td>\n",
       "      <td>51.000000</td>\n",
       "      <td>51.000000</td>\n",
       "      <td>32.000000</td>\n",
       "      <td>22.000000</td>\n",
       "    </tr>\n",
       "    <tr>\n",
       "      <th>mean</th>\n",
       "      <td>27.000000</td>\n",
       "      <td>98.019608</td>\n",
       "      <td>101.941176</td>\n",
       "      <td>484.764706</td>\n",
       "      <td>1452.823529</td>\n",
       "      <td>227.470588</td>\n",
       "      <td>76.784314</td>\n",
       "      <td>902.764706</td>\n",
       "      <td>67.490196</td>\n",
       "      <td>50.039216</td>\n",
       "      <td>4.647059</td>\n",
       "      <td>40.352941</td>\n",
       "      <td>20.437500</td>\n",
       "      <td>3.909091</td>\n",
       "    </tr>\n",
       "    <tr>\n",
       "      <th>std</th>\n",
       "      <td>14.866069</td>\n",
       "      <td>47.943921</td>\n",
       "      <td>40.862898</td>\n",
       "      <td>195.634413</td>\n",
       "      <td>416.618708</td>\n",
       "      <td>106.207787</td>\n",
       "      <td>31.765587</td>\n",
       "      <td>420.768183</td>\n",
       "      <td>7.548172</td>\n",
       "      <td>47.573506</td>\n",
       "      <td>2.225520</td>\n",
       "      <td>18.902723</td>\n",
       "      <td>5.482744</td>\n",
       "      <td>0.426401</td>\n",
       "    </tr>\n",
       "    <tr>\n",
       "      <th>min</th>\n",
       "      <td>2.000000</td>\n",
       "      <td>10.000000</td>\n",
       "      <td>7.000000</td>\n",
       "      <td>80.000000</td>\n",
       "      <td>516.000000</td>\n",
       "      <td>49.000000</td>\n",
       "      <td>4.000000</td>\n",
       "      <td>100.000000</td>\n",
       "      <td>60.000000</td>\n",
       "      <td>0.000000</td>\n",
       "      <td>2.000000</td>\n",
       "      <td>0.000000</td>\n",
       "      <td>10.000000</td>\n",
       "      <td>2.000000</td>\n",
       "    </tr>\n",
       "    <tr>\n",
       "      <th>25%</th>\n",
       "      <td>14.500000</td>\n",
       "      <td>49.000000</td>\n",
       "      <td>81.000000</td>\n",
       "      <td>326.000000</td>\n",
       "      <td>1087.500000</td>\n",
       "      <td>121.500000</td>\n",
       "      <td>56.000000</td>\n",
       "      <td>504.000000</td>\n",
       "      <td>60.000000</td>\n",
       "      <td>7.000000</td>\n",
       "      <td>3.000000</td>\n",
       "      <td>28.500000</td>\n",
       "      <td>15.750000</td>\n",
       "      <td>4.000000</td>\n",
       "    </tr>\n",
       "    <tr>\n",
       "      <th>50%</th>\n",
       "      <td>27.000000</td>\n",
       "      <td>99.000000</td>\n",
       "      <td>123.000000</td>\n",
       "      <td>509.000000</td>\n",
       "      <td>1556.000000</td>\n",
       "      <td>252.000000</td>\n",
       "      <td>80.000000</td>\n",
       "      <td>1000.000000</td>\n",
       "      <td>70.000000</td>\n",
       "      <td>35.000000</td>\n",
       "      <td>3.000000</td>\n",
       "      <td>45.000000</td>\n",
       "      <td>23.000000</td>\n",
       "      <td>4.000000</td>\n",
       "    </tr>\n",
       "    <tr>\n",
       "      <th>75%</th>\n",
       "      <td>39.500000</td>\n",
       "      <td>145.000000</td>\n",
       "      <td>134.000000</td>\n",
       "      <td>645.500000</td>\n",
       "      <td>1837.000000</td>\n",
       "      <td>327.500000</td>\n",
       "      <td>106.000000</td>\n",
       "      <td>1261.000000</td>\n",
       "      <td>76.000000</td>\n",
       "      <td>90.000000</td>\n",
       "      <td>7.000000</td>\n",
       "      <td>54.000000</td>\n",
       "      <td>25.000000</td>\n",
       "      <td>4.000000</td>\n",
       "    </tr>\n",
       "    <tr>\n",
       "      <th>max</th>\n",
       "      <td>52.000000</td>\n",
       "      <td>163.000000</td>\n",
       "      <td>145.000000</td>\n",
       "      <td>762.000000</td>\n",
       "      <td>1982.000000</td>\n",
       "      <td>371.000000</td>\n",
       "      <td>125.000000</td>\n",
       "      <td>1458.000000</td>\n",
       "      <td>76.000000</td>\n",
       "      <td>138.000000</td>\n",
       "      <td>8.000000</td>\n",
       "      <td>66.000000</td>\n",
       "      <td>26.000000</td>\n",
       "      <td>4.000000</td>\n",
       "    </tr>\n",
       "  </tbody>\n",
       "</table>\n",
       "</div>"
      ],
      "text/plain": [
       "             day    aircraft  helicopter        tank          APC  \\\n",
       "count  51.000000   51.000000   51.000000   51.000000    51.000000   \n",
       "mean   27.000000   98.019608  101.941176  484.764706  1452.823529   \n",
       "std    14.866069   47.943921   40.862898  195.634413   416.618708   \n",
       "min     2.000000   10.000000    7.000000   80.000000   516.000000   \n",
       "25%    14.500000   49.000000   81.000000  326.000000  1087.500000   \n",
       "50%    27.000000   99.000000  123.000000  509.000000  1556.000000   \n",
       "75%    39.500000  145.000000  134.000000  645.500000  1837.000000   \n",
       "max    52.000000  163.000000  145.000000  762.000000  1982.000000   \n",
       "\n",
       "       field artillery         MRL  military auto  fuel tank       drone  \\\n",
       "count        51.000000   51.000000      51.000000  51.000000   51.000000   \n",
       "mean        227.470588   76.784314     902.764706  67.490196   50.039216   \n",
       "std         106.207787   31.765587     420.768183   7.548172   47.573506   \n",
       "min          49.000000    4.000000     100.000000  60.000000    0.000000   \n",
       "25%         121.500000   56.000000     504.000000  60.000000    7.000000   \n",
       "50%         252.000000   80.000000    1000.000000  70.000000   35.000000   \n",
       "75%         327.500000  106.000000    1261.000000  76.000000   90.000000   \n",
       "max         371.000000  125.000000    1458.000000  76.000000  138.000000   \n",
       "\n",
       "       naval ship  anti-aircraft warfare  special equipment  \\\n",
       "count   51.000000              51.000000          32.000000   \n",
       "mean     4.647059              40.352941          20.437500   \n",
       "std      2.225520              18.902723           5.482744   \n",
       "min      2.000000               0.000000          10.000000   \n",
       "25%      3.000000              28.500000          15.750000   \n",
       "50%      3.000000              45.000000          23.000000   \n",
       "75%      7.000000              54.000000          25.000000   \n",
       "max      8.000000              66.000000          26.000000   \n",
       "\n",
       "       mobile SRBM system  \n",
       "count           22.000000  \n",
       "mean             3.909091  \n",
       "std              0.426401  \n",
       "min              2.000000  \n",
       "25%              4.000000  \n",
       "50%              4.000000  \n",
       "75%              4.000000  \n",
       "max              4.000000  "
      ]
     },
     "execution_count": 6,
     "metadata": {},
     "output_type": "execute_result"
    }
   ],
   "source": [
    "df.describe()"
   ]
  },
  {
   "cell_type": "code",
   "execution_count": 7,
   "id": "fb71fc82",
   "metadata": {},
   "outputs": [
    {
     "data": {
      "text/plain": [
       "0"
      ]
     },
     "execution_count": 7,
     "metadata": {},
     "output_type": "execute_result"
    }
   ],
   "source": [
    "df.duplicated().sum()"
   ]
  },
  {
   "cell_type": "code",
   "execution_count": 8,
   "id": "5fc9d19b",
   "metadata": {},
   "outputs": [
    {
     "data": {
      "text/html": [
       "<div>\n",
       "<style scoped>\n",
       "    .dataframe tbody tr th:only-of-type {\n",
       "        vertical-align: middle;\n",
       "    }\n",
       "\n",
       "    .dataframe tbody tr th {\n",
       "        vertical-align: top;\n",
       "    }\n",
       "\n",
       "    .dataframe thead th {\n",
       "        text-align: right;\n",
       "    }\n",
       "</style>\n",
       "<table border=\"1\" class=\"dataframe\">\n",
       "  <thead>\n",
       "    <tr style=\"text-align: right;\">\n",
       "      <th></th>\n",
       "      <th>day</th>\n",
       "      <th>aircraft</th>\n",
       "      <th>helicopter</th>\n",
       "      <th>tank</th>\n",
       "      <th>APC</th>\n",
       "      <th>field artillery</th>\n",
       "      <th>MRL</th>\n",
       "      <th>military auto</th>\n",
       "      <th>fuel tank</th>\n",
       "      <th>drone</th>\n",
       "      <th>naval ship</th>\n",
       "      <th>anti-aircraft warfare</th>\n",
       "      <th>special equipment</th>\n",
       "      <th>mobile SRBM system</th>\n",
       "    </tr>\n",
       "  </thead>\n",
       "  <tbody>\n",
       "    <tr>\n",
       "      <th>day</th>\n",
       "      <td>1.000000</td>\n",
       "      <td>0.989452</td>\n",
       "      <td>0.927452</td>\n",
       "      <td>0.992382</td>\n",
       "      <td>0.981848</td>\n",
       "      <td>0.981283</td>\n",
       "      <td>0.970164</td>\n",
       "      <td>0.984984</td>\n",
       "      <td>0.907392</td>\n",
       "      <td>0.958131</td>\n",
       "      <td>0.930338</td>\n",
       "      <td>0.951072</td>\n",
       "      <td>0.925732</td>\n",
       "      <td>0.361158</td>\n",
       "    </tr>\n",
       "    <tr>\n",
       "      <th>aircraft</th>\n",
       "      <td>0.989452</td>\n",
       "      <td>1.000000</td>\n",
       "      <td>0.947759</td>\n",
       "      <td>0.992565</td>\n",
       "      <td>0.990412</td>\n",
       "      <td>0.989563</td>\n",
       "      <td>0.965395</td>\n",
       "      <td>0.991147</td>\n",
       "      <td>0.912463</td>\n",
       "      <td>0.932288</td>\n",
       "      <td>0.934460</td>\n",
       "      <td>0.959374</td>\n",
       "      <td>0.976023</td>\n",
       "      <td>0.455565</td>\n",
       "    </tr>\n",
       "    <tr>\n",
       "      <th>helicopter</th>\n",
       "      <td>0.927452</td>\n",
       "      <td>0.947759</td>\n",
       "      <td>1.000000</td>\n",
       "      <td>0.958927</td>\n",
       "      <td>0.971900</td>\n",
       "      <td>0.947993</td>\n",
       "      <td>0.950951</td>\n",
       "      <td>0.958982</td>\n",
       "      <td>0.793961</td>\n",
       "      <td>0.795488</td>\n",
       "      <td>0.835692</td>\n",
       "      <td>0.985812</td>\n",
       "      <td>0.942613</td>\n",
       "      <td>0.323669</td>\n",
       "    </tr>\n",
       "    <tr>\n",
       "      <th>tank</th>\n",
       "      <td>0.992382</td>\n",
       "      <td>0.992565</td>\n",
       "      <td>0.958927</td>\n",
       "      <td>1.000000</td>\n",
       "      <td>0.995803</td>\n",
       "      <td>0.988418</td>\n",
       "      <td>0.984511</td>\n",
       "      <td>0.994631</td>\n",
       "      <td>0.894720</td>\n",
       "      <td>0.923795</td>\n",
       "      <td>0.920638</td>\n",
       "      <td>0.974992</td>\n",
       "      <td>0.953336</td>\n",
       "      <td>0.343587</td>\n",
       "    </tr>\n",
       "    <tr>\n",
       "      <th>APC</th>\n",
       "      <td>0.981848</td>\n",
       "      <td>0.990412</td>\n",
       "      <td>0.971900</td>\n",
       "      <td>0.995803</td>\n",
       "      <td>1.000000</td>\n",
       "      <td>0.988626</td>\n",
       "      <td>0.981977</td>\n",
       "      <td>0.996340</td>\n",
       "      <td>0.880027</td>\n",
       "      <td>0.897838</td>\n",
       "      <td>0.902871</td>\n",
       "      <td>0.980696</td>\n",
       "      <td>0.961453</td>\n",
       "      <td>0.406247</td>\n",
       "    </tr>\n",
       "    <tr>\n",
       "      <th>field artillery</th>\n",
       "      <td>0.981283</td>\n",
       "      <td>0.989563</td>\n",
       "      <td>0.947993</td>\n",
       "      <td>0.988418</td>\n",
       "      <td>0.988626</td>\n",
       "      <td>1.000000</td>\n",
       "      <td>0.967849</td>\n",
       "      <td>0.995467</td>\n",
       "      <td>0.925568</td>\n",
       "      <td>0.924793</td>\n",
       "      <td>0.930878</td>\n",
       "      <td>0.961105</td>\n",
       "      <td>0.972135</td>\n",
       "      <td>0.353467</td>\n",
       "    </tr>\n",
       "    <tr>\n",
       "      <th>MRL</th>\n",
       "      <td>0.970164</td>\n",
       "      <td>0.965395</td>\n",
       "      <td>0.950951</td>\n",
       "      <td>0.984511</td>\n",
       "      <td>0.981977</td>\n",
       "      <td>0.967849</td>\n",
       "      <td>1.000000</td>\n",
       "      <td>0.978935</td>\n",
       "      <td>0.854761</td>\n",
       "      <td>0.885236</td>\n",
       "      <td>0.893449</td>\n",
       "      <td>0.979185</td>\n",
       "      <td>0.945968</td>\n",
       "      <td>0.340333</td>\n",
       "    </tr>\n",
       "    <tr>\n",
       "      <th>military auto</th>\n",
       "      <td>0.984984</td>\n",
       "      <td>0.991147</td>\n",
       "      <td>0.958982</td>\n",
       "      <td>0.994631</td>\n",
       "      <td>0.996340</td>\n",
       "      <td>0.995467</td>\n",
       "      <td>0.978935</td>\n",
       "      <td>1.000000</td>\n",
       "      <td>0.898618</td>\n",
       "      <td>0.914523</td>\n",
       "      <td>0.916136</td>\n",
       "      <td>0.972606</td>\n",
       "      <td>0.964334</td>\n",
       "      <td>0.352251</td>\n",
       "    </tr>\n",
       "    <tr>\n",
       "      <th>fuel tank</th>\n",
       "      <td>0.907392</td>\n",
       "      <td>0.912463</td>\n",
       "      <td>0.793961</td>\n",
       "      <td>0.894720</td>\n",
       "      <td>0.880027</td>\n",
       "      <td>0.925568</td>\n",
       "      <td>0.854761</td>\n",
       "      <td>0.898618</td>\n",
       "      <td>1.000000</td>\n",
       "      <td>0.942598</td>\n",
       "      <td>0.953440</td>\n",
       "      <td>0.813588</td>\n",
       "      <td>0.946600</td>\n",
       "      <td>0.448543</td>\n",
       "    </tr>\n",
       "    <tr>\n",
       "      <th>drone</th>\n",
       "      <td>0.958131</td>\n",
       "      <td>0.932288</td>\n",
       "      <td>0.795488</td>\n",
       "      <td>0.923795</td>\n",
       "      <td>0.897838</td>\n",
       "      <td>0.924793</td>\n",
       "      <td>0.885236</td>\n",
       "      <td>0.914523</td>\n",
       "      <td>0.942598</td>\n",
       "      <td>1.000000</td>\n",
       "      <td>0.940291</td>\n",
       "      <td>0.834351</td>\n",
       "      <td>0.945770</td>\n",
       "      <td>0.381276</td>\n",
       "    </tr>\n",
       "    <tr>\n",
       "      <th>naval ship</th>\n",
       "      <td>0.930338</td>\n",
       "      <td>0.934460</td>\n",
       "      <td>0.835692</td>\n",
       "      <td>0.920638</td>\n",
       "      <td>0.902871</td>\n",
       "      <td>0.930878</td>\n",
       "      <td>0.893449</td>\n",
       "      <td>0.916136</td>\n",
       "      <td>0.953440</td>\n",
       "      <td>0.940291</td>\n",
       "      <td>1.000000</td>\n",
       "      <td>0.863524</td>\n",
       "      <td>0.946897</td>\n",
       "      <td>0.069007</td>\n",
       "    </tr>\n",
       "    <tr>\n",
       "      <th>anti-aircraft warfare</th>\n",
       "      <td>0.951072</td>\n",
       "      <td>0.959374</td>\n",
       "      <td>0.985812</td>\n",
       "      <td>0.974992</td>\n",
       "      <td>0.980696</td>\n",
       "      <td>0.961105</td>\n",
       "      <td>0.979185</td>\n",
       "      <td>0.972606</td>\n",
       "      <td>0.813588</td>\n",
       "      <td>0.834351</td>\n",
       "      <td>0.863524</td>\n",
       "      <td>1.000000</td>\n",
       "      <td>0.874425</td>\n",
       "      <td>0.264933</td>\n",
       "    </tr>\n",
       "    <tr>\n",
       "      <th>special equipment</th>\n",
       "      <td>0.925732</td>\n",
       "      <td>0.976023</td>\n",
       "      <td>0.942613</td>\n",
       "      <td>0.953336</td>\n",
       "      <td>0.961453</td>\n",
       "      <td>0.972135</td>\n",
       "      <td>0.945968</td>\n",
       "      <td>0.964334</td>\n",
       "      <td>0.946600</td>\n",
       "      <td>0.945770</td>\n",
       "      <td>0.946897</td>\n",
       "      <td>0.874425</td>\n",
       "      <td>1.000000</td>\n",
       "      <td>0.546630</td>\n",
       "    </tr>\n",
       "    <tr>\n",
       "      <th>mobile SRBM system</th>\n",
       "      <td>0.361158</td>\n",
       "      <td>0.455565</td>\n",
       "      <td>0.323669</td>\n",
       "      <td>0.343587</td>\n",
       "      <td>0.406247</td>\n",
       "      <td>0.353467</td>\n",
       "      <td>0.340333</td>\n",
       "      <td>0.352251</td>\n",
       "      <td>0.448543</td>\n",
       "      <td>0.381276</td>\n",
       "      <td>0.069007</td>\n",
       "      <td>0.264933</td>\n",
       "      <td>0.546630</td>\n",
       "      <td>1.000000</td>\n",
       "    </tr>\n",
       "  </tbody>\n",
       "</table>\n",
       "</div>"
      ],
      "text/plain": [
       "                            day  aircraft  helicopter      tank       APC  \\\n",
       "day                    1.000000  0.989452    0.927452  0.992382  0.981848   \n",
       "aircraft               0.989452  1.000000    0.947759  0.992565  0.990412   \n",
       "helicopter             0.927452  0.947759    1.000000  0.958927  0.971900   \n",
       "tank                   0.992382  0.992565    0.958927  1.000000  0.995803   \n",
       "APC                    0.981848  0.990412    0.971900  0.995803  1.000000   \n",
       "field artillery        0.981283  0.989563    0.947993  0.988418  0.988626   \n",
       "MRL                    0.970164  0.965395    0.950951  0.984511  0.981977   \n",
       "military auto          0.984984  0.991147    0.958982  0.994631  0.996340   \n",
       "fuel tank              0.907392  0.912463    0.793961  0.894720  0.880027   \n",
       "drone                  0.958131  0.932288    0.795488  0.923795  0.897838   \n",
       "naval ship             0.930338  0.934460    0.835692  0.920638  0.902871   \n",
       "anti-aircraft warfare  0.951072  0.959374    0.985812  0.974992  0.980696   \n",
       "special equipment      0.925732  0.976023    0.942613  0.953336  0.961453   \n",
       "mobile SRBM system     0.361158  0.455565    0.323669  0.343587  0.406247   \n",
       "\n",
       "                       field artillery       MRL  military auto  fuel tank  \\\n",
       "day                           0.981283  0.970164       0.984984   0.907392   \n",
       "aircraft                      0.989563  0.965395       0.991147   0.912463   \n",
       "helicopter                    0.947993  0.950951       0.958982   0.793961   \n",
       "tank                          0.988418  0.984511       0.994631   0.894720   \n",
       "APC                           0.988626  0.981977       0.996340   0.880027   \n",
       "field artillery               1.000000  0.967849       0.995467   0.925568   \n",
       "MRL                           0.967849  1.000000       0.978935   0.854761   \n",
       "military auto                 0.995467  0.978935       1.000000   0.898618   \n",
       "fuel tank                     0.925568  0.854761       0.898618   1.000000   \n",
       "drone                         0.924793  0.885236       0.914523   0.942598   \n",
       "naval ship                    0.930878  0.893449       0.916136   0.953440   \n",
       "anti-aircraft warfare         0.961105  0.979185       0.972606   0.813588   \n",
       "special equipment             0.972135  0.945968       0.964334   0.946600   \n",
       "mobile SRBM system            0.353467  0.340333       0.352251   0.448543   \n",
       "\n",
       "                          drone  naval ship  anti-aircraft warfare  \\\n",
       "day                    0.958131    0.930338               0.951072   \n",
       "aircraft               0.932288    0.934460               0.959374   \n",
       "helicopter             0.795488    0.835692               0.985812   \n",
       "tank                   0.923795    0.920638               0.974992   \n",
       "APC                    0.897838    0.902871               0.980696   \n",
       "field artillery        0.924793    0.930878               0.961105   \n",
       "MRL                    0.885236    0.893449               0.979185   \n",
       "military auto          0.914523    0.916136               0.972606   \n",
       "fuel tank              0.942598    0.953440               0.813588   \n",
       "drone                  1.000000    0.940291               0.834351   \n",
       "naval ship             0.940291    1.000000               0.863524   \n",
       "anti-aircraft warfare  0.834351    0.863524               1.000000   \n",
       "special equipment      0.945770    0.946897               0.874425   \n",
       "mobile SRBM system     0.381276    0.069007               0.264933   \n",
       "\n",
       "                       special equipment  mobile SRBM system  \n",
       "day                             0.925732            0.361158  \n",
       "aircraft                        0.976023            0.455565  \n",
       "helicopter                      0.942613            0.323669  \n",
       "tank                            0.953336            0.343587  \n",
       "APC                             0.961453            0.406247  \n",
       "field artillery                 0.972135            0.353467  \n",
       "MRL                             0.945968            0.340333  \n",
       "military auto                   0.964334            0.352251  \n",
       "fuel tank                       0.946600            0.448543  \n",
       "drone                           0.945770            0.381276  \n",
       "naval ship                      0.946897            0.069007  \n",
       "anti-aircraft warfare           0.874425            0.264933  \n",
       "special equipment               1.000000            0.546630  \n",
       "mobile SRBM system              0.546630            1.000000  "
      ]
     },
     "execution_count": 8,
     "metadata": {},
     "output_type": "execute_result"
    }
   ],
   "source": [
    "df.corr()"
   ]
  },
  {
   "cell_type": "markdown",
   "id": "93b3f4c1",
   "metadata": {},
   "source": [
    "## 1) Categorical Data"
   ]
  },
  {
   "cell_type": "markdown",
   "id": "ff8f8021",
   "metadata": {},
   "source": [
    "### a.countPlot"
   ]
  },
  {
   "cell_type": "code",
   "execution_count": 9,
   "id": "735faba6",
   "metadata": {},
   "outputs": [
    {
     "name": "stderr",
     "output_type": "stream",
     "text": [
      "C:\\Users\\nagam\\anaconda3\\lib\\site-packages\\seaborn\\_decorators.py:36: FutureWarning: Pass the following variable as a keyword arg: x. From version 0.12, the only valid positional argument will be `data`, and passing other arguments without an explicit keyword will result in an error or misinterpretation.\n",
      "  warnings.warn(\n"
     ]
    },
    {
     "data": {
      "text/plain": [
       "150    4\n",
       "143    3\n",
       "49     2\n",
       "27     2\n",
       "163    2\n",
       "30     2\n",
       "29     2\n",
       "135    1\n",
       "117    1\n",
       "121    1\n",
       "123    1\n",
       "127    1\n",
       "131    1\n",
       "158    1\n",
       "157    1\n",
       "147    1\n",
       "108    1\n",
       "151    1\n",
       "160    1\n",
       "152    1\n",
       "154    1\n",
       "115    1\n",
       "10     1\n",
       "101    1\n",
       "99     1\n",
       "33     1\n",
       "39     1\n",
       "44     1\n",
       "46     1\n",
       "48     1\n",
       "57     1\n",
       "58     1\n",
       "74     1\n",
       "77     1\n",
       "81     1\n",
       "84     1\n",
       "86     1\n",
       "93     1\n",
       "95     1\n",
       "96     1\n",
       "97     1\n",
       "Name: aircraft, dtype: int64"
      ]
     },
     "execution_count": 9,
     "metadata": {},
     "output_type": "execute_result"
    },
    {
     "data": {
      "image/png": "[encoded data removed]",
      "text/plain": [
       "<Figure size 432x288 with 1 Axes>"
      ]
     },
     "metadata": {
      "needs_background": "light"
     },
     "output_type": "display_data"
    }
   ],
   "source": [
    "sns.countplot(df['aircraft'])# picture representation\n",
    "df['aircraft'].value_counts()"
   ]
  },
  {
   "cell_type": "code",
   "execution_count": 10,
   "id": "33741b61",
   "metadata": {},
   "outputs": [
    {
     "data": {
      "text/plain": [
       "<AxesSubplot:ylabel='aircraft'>"
      ]
     },
     "execution_count": 10,
     "metadata": {},
     "output_type": "execute_result"
    },
    {
     "data": {
      "image/png": "[encoded data removed]",
      "text/plain": [
       "<Figure size 432x288 with 1 Axes>"
      ]
     },
     "metadata": {},
     "output_type": "display_data"
    }
   ],
   "source": [
    "df['aircraft'].value_counts().plot(kind='pie')"
   ]
  },
  {
   "cell_type": "markdown",
   "id": "17620d6b",
   "metadata": {},
   "source": [
    "### 2.Numerical Data"
   ]
  },
  {
   "cell_type": "markdown",
   "id": "dc35be7f",
   "metadata": {},
   "source": [
    "### we can create bin Eg:10-20 & 20-30 & 30-40....."
   ]
  },
  {
   "cell_type": "markdown",
   "id": "9551e5ef",
   "metadata": {},
   "source": [
    "### a)HistoGram"
   ]
  },
  {
   "cell_type": "code",
   "execution_count": 11,
   "id": "8b0b19d6",
   "metadata": {},
   "outputs": [
    {
     "data": {
      "text/plain": [
       "(array([ 2.,  4.,  3.,  5.,  5.,  5.,  4.,  8.,  5., 10.]),\n",
       " array([ 80. , 148.2, 216.4, 284.6, 352.8, 421. , 489.2, 557.4, 625.6,\n",
       "        693.8, 762. ]),\n",
       " <BarContainer object of 10 artists>)"
      ]
     },
     "execution_count": 11,
     "metadata": {},
     "output_type": "execute_result"
    },
    {
     "data": {
      "image/png": "[encoded data removed]",
      "text/plain": [
       "<Figure size 432x288 with 1 Axes>"
      ]
     },
     "metadata": {
      "needs_background": "light"
     },
     "output_type": "display_data"
    }
   ],
   "source": [
    "plt.hist(df['tank'])"
   ]
  },
  {
   "cell_type": "code",
   "execution_count": 12,
   "id": "00e0328b",
   "metadata": {},
   "outputs": [
    {
     "data": {
      "text/plain": [
       "(array([1., 0., 0., 0., 0., 1., 2., 0., 0., 0., 1., 1., 1., 0., 0., 1., 1.,\n",
       "        0., 2., 1., 1., 0., 1., 0., 2., 1., 0., 1., 1., 0., 1., 0., 2., 1.,\n",
       "        1., 0., 1., 1., 1., 1., 0., 0., 1., 1., 2., 1., 2., 1., 1., 2., 0.,\n",
       "        0., 1., 1., 3., 0., 2., 2., 0., 3.]),\n",
       " array([ 80.        ,  91.36666667, 102.73333333, 114.1       ,\n",
       "        125.46666667, 136.83333333, 148.2       , 159.56666667,\n",
       "        170.93333333, 182.3       , 193.66666667, 205.03333333,\n",
       "        216.4       , 227.76666667, 239.13333333, 250.5       ,\n",
       "        261.86666667, 273.23333333, 284.6       , 295.96666667,\n",
       "        307.33333333, 318.7       , 330.06666667, 341.43333333,\n",
       "        352.8       , 364.16666667, 375.53333333, 386.9       ,\n",
       "        398.26666667, 409.63333333, 421.        , 432.36666667,\n",
       "        443.73333333, 455.1       , 466.46666667, 477.83333333,\n",
       "        489.2       , 500.56666667, 511.93333333, 523.3       ,\n",
       "        534.66666667, 546.03333333, 557.4       , 568.76666667,\n",
       "        580.13333333, 591.5       , 602.86666667, 614.23333333,\n",
       "        625.6       , 636.96666667, 648.33333333, 659.7       ,\n",
       "        671.06666667, 682.43333333, 693.8       , 705.16666667,\n",
       "        716.53333333, 727.9       , 739.26666667, 750.63333333,\n",
       "        762.        ]),\n",
       " <BarContainer object of 60 artists>)"
      ]
     },
     "execution_count": 12,
     "metadata": {},
     "output_type": "execute_result"
    },
    {
     "data": {
      "image/png": "[encoded data removed]",
      "text/plain": [
       "<Figure size 432x288 with 1 Axes>"
      ]
     },
     "metadata": {
      "needs_background": "light"
     },
     "output_type": "display_data"
    }
   ],
   "source": [
    "plt.hist(df['tank'],bins=60)"
   ]
  },
  {
   "cell_type": "markdown",
   "id": "640fea87",
   "metadata": {},
   "source": [
    "## b)DistPlot"
   ]
  },
  {
   "cell_type": "markdown",
   "id": "72afe2d0",
   "metadata": {},
   "source": [
    "### it help us to find skewness"
   ]
  },
  {
   "cell_type": "markdown",
   "id": "73cc3d52",
   "metadata": {},
   "source": [
    "### to get the probelity of in persent tank"
   ]
  },
  {
   "cell_type": "code",
   "execution_count": 13,
   "id": "78663e44",
   "metadata": {},
   "outputs": [
    {
     "name": "stderr",
     "output_type": "stream",
     "text": [
      "C:\\Users\\nagam\\anaconda3\\lib\\site-packages\\seaborn\\distributions.py:2619: FutureWarning: `distplot` is a deprecated function and will be removed in a future version. Please adapt your code to use either `displot` (a figure-level function with similar flexibility) or `histplot` (an axes-level function for histograms).\n",
      "  warnings.warn(msg, FutureWarning)\n"
     ]
    },
    {
     "data": {
      "text/plain": [
       "<AxesSubplot:xlabel='tank', ylabel='Density'>"
      ]
     },
     "execution_count": 13,
     "metadata": {},
     "output_type": "execute_result"
    },
    {
     "data": {
      "image/png": "[encoded data removed]",
      "text/plain": [
       "<Figure size 432x288 with 1 Axes>"
      ]
     },
     "metadata": {
      "needs_background": "light"
     },
     "output_type": "display_data"
    }
   ],
   "source": [
    "sns.distplot(df['tank'])"
   ]
  },
  {
   "cell_type": "markdown",
   "id": "934bb9b3",
   "metadata": {},
   "source": [
    "### c)BoxPlot"
   ]
  },
  {
   "cell_type": "code",
   "execution_count": 14,
   "id": "b53d5722",
   "metadata": {},
   "outputs": [
    {
     "name": "stderr",
     "output_type": "stream",
     "text": [
      "C:\\Users\\nagam\\anaconda3\\lib\\site-packages\\seaborn\\_decorators.py:36: FutureWarning: Pass the following variable as a keyword arg: x. From version 0.12, the only valid positional argument will be `data`, and passing other arguments without an explicit keyword will result in an error or misinterpretation.\n",
      "  warnings.warn(\n"
     ]
    },
    {
     "data": {
      "text/plain": [
       "<AxesSubplot:xlabel='tank'>"
      ]
     },
     "execution_count": 14,
     "metadata": {},
     "output_type": "execute_result"
    },
    {
     "data": {
      "image/png": "[encoded data removed]",
      "text/plain": [
       "<Figure size 432x288 with 1 Axes>"
      ]
     },
     "metadata": {
      "needs_background": "light"
     },
     "output_type": "display_data"
    }
   ],
   "source": [
    "sns.boxplot(df['tank'])"
   ]
  },
  {
   "cell_type": "code",
   "execution_count": null,
   "id": "6ee31752",
   "metadata": {},
   "outputs": [],
   "source": []
  }
 ],
 "metadata": {
  "kernelspec": {
   "display_name": "Python 3 (ipykernel)",
   "language": "python",
   "name": "python3"
  },
  "language_info": {
   "codemirror_mode": {
    "name": "ipython",
    "version": 3
   },
   "file_extension": ".py",
   "mimetype": "text/x-python",
   "name": "python",
   "nbconvert_exporter": "python",
   "pygments_lexer": "ipython3",
   "version": "3.9.7"
  }
 },
 "nbformat": 4,
 "nbformat_minor": 5
}
